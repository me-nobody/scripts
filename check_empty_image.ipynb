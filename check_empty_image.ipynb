{
 "cells": [
  {
   "cell_type": "code",
   "execution_count": 1,
   "id": "d64b40e2",
   "metadata": {},
   "outputs": [
    {
     "data": {
      "text/plain": [
       "['classify_image.py',\n",
       " 'run_check_image.sh',\n",
       " 'run_nuclei_segment_multiple.sh',\n",
       " 'run_openslide.sh',\n",
       " 'run_nuclei_segment.sh',\n",
       " 'classify_nuclei.py',\n",
       " 'check_image-111956_out.txt',\n",
       " 'check_empty_image.py',\n",
       " 'train_classifier_and_classify_nuclei.py',\n",
       " 'openslide_split_files.py',\n",
       " 'extract_nuclei_features.py',\n",
       " 'openslide_find_resolution.py',\n",
       " 'predict_nuclei.py',\n",
       " 'run_nuclei_classifier.sh',\n",
       " 'nuclei_features.py',\n",
       " 'check_image-111956_err.txt',\n",
       " 'nuclei_segmentation.py',\n",
       " 'Untitled.ipynb',\n",
       " 'hematoxylin_channel_deconvolution.py',\n",
       " 'train_nuclei_classifier.py',\n",
       " '.ipynb_checkpoints']"
      ]
     },
     "execution_count": 1,
     "metadata": {},
     "output_type": "execute_result"
    }
   ],
   "source": [
    "import os\n",
    "os.listdir()"
   ]
  },
  {
   "cell_type": "code",
   "execution_count": null,
   "id": "8bb39643",
   "metadata": {},
   "outputs": [],
   "source": [
    "import time\n",
    "import os\n",
    "import numpy as np\n",
    "import cv2\n",
    "\n",
    "IN =\"/users/ad394h/Documents/nuclei_segment/training_data/normal/\"\n",
    "\n",
    "\n",
    "def is_empty(img):\n",
    "   # Reading Image\n",
    "   img = os.path.join(IN,img)\n",
    "   image = cv2.imread(img, 0)\n",
    "   np.reshape(image, (-1,1))\n",
    "   u, count_unique = np.unique(image, return_counts =True)\n",
    "   \n",
    "   if count_unique.size < 50:\n",
    "      logger.info(f\"{img} Image is empty\")\n",
    "   else:\n",
    "      logger.info(f\"{img} is not empty\")\n",
    "\n",
    "if __name__ == \"__main__\":\n",
    "   for image in os.listdir(IN):\n",
    "      is_empty(image)"
   ]
  },
  {
   "cell_type": "code",
   "execution_count": null,
   "id": "17f389ea",
   "metadata": {},
   "outputs": [],
   "source": []
  }
 ],
 "metadata": {
  "kernelspec": {
   "display_name": "Python 3 (ipykernel)",
   "language": "python",
   "name": "python3"
  },
  "language_info": {
   "codemirror_mode": {
    "name": "ipython",
    "version": 3
   },
   "file_extension": ".py",
   "mimetype": "text/x-python",
   "name": "python",
   "nbconvert_exporter": "python",
   "pygments_lexer": "ipython3",
   "version": "3.10.9"
  }
 },
 "nbformat": 4,
 "nbformat_minor": 5
}
